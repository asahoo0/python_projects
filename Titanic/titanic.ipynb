{
 "cells": [
  {
   "cell_type": "code",
   "execution_count": 1,
   "id": "c92b600b",
   "metadata": {
    "_cell_guid": "b1076dfc-b9ad-4769-8c92-a6c4dae69d19",
    "_uuid": "8f2839f25d086af736a60e9eeb907d3b93b6e0e5",
    "execution": {
     "iopub.execute_input": "2021-12-25T00:55:43.942881Z",
     "iopub.status.busy": "2021-12-25T00:55:43.941034Z",
     "iopub.status.idle": "2021-12-25T00:55:43.958348Z",
     "shell.execute_reply": "2021-12-25T00:55:43.957786Z",
     "shell.execute_reply.started": "2021-12-25T00:54:39.587345Z"
    },
    "papermill": {
     "duration": 0.042488,
     "end_time": "2021-12-25T00:55:43.958544",
     "exception": false,
     "start_time": "2021-12-25T00:55:43.916056",
     "status": "completed"
    },
    "tags": []
   },
   "outputs": [
    {
     "name": "stdout",
     "output_type": "stream",
     "text": [
      "/kaggle/input/titanic/train.csv\n",
      "/kaggle/input/titanic/test.csv\n",
      "/kaggle/input/titanic/gender_submission.csv\n"
     ]
    }
   ],
   "source": [
    "# This Python 3 environment comes with many helpful analytics libraries installed\n",
    "# It is defined by the kaggle/python Docker image: https://github.com/kaggle/docker-python\n",
    "# For example, here's several helpful packages to load\n",
    "\n",
    "import numpy as np # linear algebra\n",
    "import pandas as pd # data processing, CSV file I/O (e.g. pd.read_csv)\n",
    "\n",
    "# Input data files are available in the read-only \"../input/\" directory\n",
    "# For example, running this (by clicking run or pressing Shift+Enter) will list all files under the input directory\n",
    "\n",
    "import os\n",
    "for dirname, _, filenames in os.walk('/kaggle/input'):\n",
    "    for filename in filenames:\n",
    "        print(os.path.join(dirname, filename))\n",
    "\n",
    "# You can write up to 20GB to the current directory (/kaggle/working/) that gets preserved as output when you create a version using \"Save & Run All\" \n",
    "# You can also write temporary files to /kaggle/temp/, but they won't be saved outside of the current session"
   ]
  },
  {
   "cell_type": "code",
   "execution_count": 2,
   "id": "2e117814",
   "metadata": {
    "execution": {
     "iopub.execute_input": "2021-12-25T00:55:44.002668Z",
     "iopub.status.busy": "2021-12-25T00:55:44.001823Z",
     "iopub.status.idle": "2021-12-25T00:55:44.037500Z",
     "shell.execute_reply": "2021-12-25T00:55:44.037966Z",
     "shell.execute_reply.started": "2021-12-25T00:54:39.620953Z"
    },
    "papermill": {
     "duration": 0.059007,
     "end_time": "2021-12-25T00:55:44.038122",
     "exception": false,
     "start_time": "2021-12-25T00:55:43.979115",
     "status": "completed"
    },
    "tags": []
   },
   "outputs": [
    {
     "data": {
      "text/html": [
       "<div>\n",
       "<style scoped>\n",
       "    .dataframe tbody tr th:only-of-type {\n",
       "        vertical-align: middle;\n",
       "    }\n",
       "\n",
       "    .dataframe tbody tr th {\n",
       "        vertical-align: top;\n",
       "    }\n",
       "\n",
       "    .dataframe thead th {\n",
       "        text-align: right;\n",
       "    }\n",
       "</style>\n",
       "<table border=\"1\" class=\"dataframe\">\n",
       "  <thead>\n",
       "    <tr style=\"text-align: right;\">\n",
       "      <th></th>\n",
       "      <th>PassengerId</th>\n",
       "      <th>Survived</th>\n",
       "      <th>Pclass</th>\n",
       "      <th>Name</th>\n",
       "      <th>Sex</th>\n",
       "      <th>Age</th>\n",
       "      <th>SibSp</th>\n",
       "      <th>Parch</th>\n",
       "      <th>Ticket</th>\n",
       "      <th>Fare</th>\n",
       "      <th>Cabin</th>\n",
       "      <th>Embarked</th>\n",
       "    </tr>\n",
       "  </thead>\n",
       "  <tbody>\n",
       "    <tr>\n",
       "      <th>0</th>\n",
       "      <td>1</td>\n",
       "      <td>0</td>\n",
       "      <td>3</td>\n",
       "      <td>Braund, Mr. Owen Harris</td>\n",
       "      <td>male</td>\n",
       "      <td>22.0</td>\n",
       "      <td>1</td>\n",
       "      <td>0</td>\n",
       "      <td>A/5 21171</td>\n",
       "      <td>7.2500</td>\n",
       "      <td>NaN</td>\n",
       "      <td>S</td>\n",
       "    </tr>\n",
       "    <tr>\n",
       "      <th>1</th>\n",
       "      <td>2</td>\n",
       "      <td>1</td>\n",
       "      <td>1</td>\n",
       "      <td>Cumings, Mrs. John Bradley (Florence Briggs Th...</td>\n",
       "      <td>female</td>\n",
       "      <td>38.0</td>\n",
       "      <td>1</td>\n",
       "      <td>0</td>\n",
       "      <td>PC 17599</td>\n",
       "      <td>71.2833</td>\n",
       "      <td>C85</td>\n",
       "      <td>C</td>\n",
       "    </tr>\n",
       "    <tr>\n",
       "      <th>2</th>\n",
       "      <td>3</td>\n",
       "      <td>1</td>\n",
       "      <td>3</td>\n",
       "      <td>Heikkinen, Miss. Laina</td>\n",
       "      <td>female</td>\n",
       "      <td>26.0</td>\n",
       "      <td>0</td>\n",
       "      <td>0</td>\n",
       "      <td>STON/O2. 3101282</td>\n",
       "      <td>7.9250</td>\n",
       "      <td>NaN</td>\n",
       "      <td>S</td>\n",
       "    </tr>\n",
       "    <tr>\n",
       "      <th>3</th>\n",
       "      <td>4</td>\n",
       "      <td>1</td>\n",
       "      <td>1</td>\n",
       "      <td>Futrelle, Mrs. Jacques Heath (Lily May Peel)</td>\n",
       "      <td>female</td>\n",
       "      <td>35.0</td>\n",
       "      <td>1</td>\n",
       "      <td>0</td>\n",
       "      <td>113803</td>\n",
       "      <td>53.1000</td>\n",
       "      <td>C123</td>\n",
       "      <td>S</td>\n",
       "    </tr>\n",
       "    <tr>\n",
       "      <th>4</th>\n",
       "      <td>5</td>\n",
       "      <td>0</td>\n",
       "      <td>3</td>\n",
       "      <td>Allen, Mr. William Henry</td>\n",
       "      <td>male</td>\n",
       "      <td>35.0</td>\n",
       "      <td>0</td>\n",
       "      <td>0</td>\n",
       "      <td>373450</td>\n",
       "      <td>8.0500</td>\n",
       "      <td>NaN</td>\n",
       "      <td>S</td>\n",
       "    </tr>\n",
       "  </tbody>\n",
       "</table>\n",
       "</div>"
      ],
      "text/plain": [
       "   PassengerId  Survived  Pclass  \\\n",
       "0            1         0       3   \n",
       "1            2         1       1   \n",
       "2            3         1       3   \n",
       "3            4         1       1   \n",
       "4            5         0       3   \n",
       "\n",
       "                                                Name     Sex   Age  SibSp  \\\n",
       "0                            Braund, Mr. Owen Harris    male  22.0      1   \n",
       "1  Cumings, Mrs. John Bradley (Florence Briggs Th...  female  38.0      1   \n",
       "2                             Heikkinen, Miss. Laina  female  26.0      0   \n",
       "3       Futrelle, Mrs. Jacques Heath (Lily May Peel)  female  35.0      1   \n",
       "4                           Allen, Mr. William Henry    male  35.0      0   \n",
       "\n",
       "   Parch            Ticket     Fare Cabin Embarked  \n",
       "0      0         A/5 21171   7.2500   NaN        S  \n",
       "1      0          PC 17599  71.2833   C85        C  \n",
       "2      0  STON/O2. 3101282   7.9250   NaN        S  \n",
       "3      0            113803  53.1000  C123        S  \n",
       "4      0            373450   8.0500   NaN        S  "
      ]
     },
     "execution_count": 2,
     "metadata": {},
     "output_type": "execute_result"
    }
   ],
   "source": [
    "training_data = pd.read_csv(\"/kaggle/input/titanic/train.csv\")\n",
    "training_data.head()"
   ]
  },
  {
   "cell_type": "code",
   "execution_count": 3,
   "id": "e8b41300",
   "metadata": {
    "execution": {
     "iopub.execute_input": "2021-12-25T00:55:44.083014Z",
     "iopub.status.busy": "2021-12-25T00:55:44.082440Z",
     "iopub.status.idle": "2021-12-25T00:55:44.085284Z",
     "shell.execute_reply": "2021-12-25T00:55:44.085883Z",
     "shell.execute_reply.started": "2021-12-25T00:54:39.661909Z"
    },
    "papermill": {
     "duration": 0.028163,
     "end_time": "2021-12-25T00:55:44.086047",
     "exception": false,
     "start_time": "2021-12-25T00:55:44.057884",
     "status": "completed"
    },
    "tags": []
   },
   "outputs": [
    {
     "name": "stdout",
     "output_type": "stream",
     "text": [
      "The number of samples into the training data is 891.\n",
      "There are 12 categories.\n"
     ]
    }
   ],
   "source": [
    "print('The number of samples into the training data is {}.'.format(training_data.shape[0]))\n",
    "print('There are {} categories.'.format(training_data.shape[1]))"
   ]
  },
  {
   "cell_type": "code",
   "execution_count": 4,
   "id": "1bd70e9d",
   "metadata": {
    "execution": {
     "iopub.execute_input": "2021-12-25T00:55:44.129733Z",
     "iopub.status.busy": "2021-12-25T00:55:44.129068Z",
     "iopub.status.idle": "2021-12-25T00:55:44.136315Z",
     "shell.execute_reply": "2021-12-25T00:55:44.136922Z",
     "shell.execute_reply.started": "2021-12-25T00:54:39.669114Z"
    },
    "papermill": {
     "duration": 0.030745,
     "end_time": "2021-12-25T00:55:44.137107",
     "exception": false,
     "start_time": "2021-12-25T00:55:44.106362",
     "status": "completed"
    },
    "tags": []
   },
   "outputs": [
    {
     "data": {
      "text/plain": [
       "PassengerId      0\n",
       "Survived         0\n",
       "Pclass           0\n",
       "Name             0\n",
       "Sex              0\n",
       "Age            177\n",
       "SibSp            0\n",
       "Parch            0\n",
       "Ticket           0\n",
       "Fare             0\n",
       "Cabin          687\n",
       "Embarked         2\n",
       "dtype: int64"
      ]
     },
     "execution_count": 4,
     "metadata": {},
     "output_type": "execute_result"
    }
   ],
   "source": [
    "training_data.isnull().sum()"
   ]
  },
  {
   "cell_type": "markdown",
   "id": "645b7f34",
   "metadata": {
    "papermill": {
     "duration": 0.019944,
     "end_time": "2021-12-25T00:55:44.178128",
     "exception": false,
     "start_time": "2021-12-25T00:55:44.158184",
     "status": "completed"
    },
    "tags": []
   },
   "source": [
    "There is missing data for Age, Cabin, and Embarked."
   ]
  },
  {
   "cell_type": "code",
   "execution_count": 5,
   "id": "b69df6b2",
   "metadata": {
    "execution": {
     "iopub.execute_input": "2021-12-25T00:55:44.223000Z",
     "iopub.status.busy": "2021-12-25T00:55:44.222358Z",
     "iopub.status.idle": "2021-12-25T00:55:44.233111Z",
     "shell.execute_reply": "2021-12-25T00:55:44.233696Z",
     "shell.execute_reply.started": "2021-12-25T00:54:39.686000Z"
    },
    "papermill": {
     "duration": 0.035069,
     "end_time": "2021-12-25T00:55:44.233866",
     "exception": false,
     "start_time": "2021-12-25T00:55:44.198797",
     "status": "completed"
    },
    "tags": []
   },
   "outputs": [
    {
     "name": "stdout",
     "output_type": "stream",
     "text": [
      "Missing \"Age\" Percent is 19.87%\n",
      "Missing \"Cabin\" Percent is 77.10%\n",
      "Missing \"Embarked\" Percent is 0.22%\n"
     ]
    }
   ],
   "source": [
    "print('Missing \"Age\" Percent is %.2f%%' %((training_data['Age'].isnull().sum()/training_data.shape[0])*100))\n",
    "print('Missing \"Cabin\" Percent is %.2f%%' %((training_data['Cabin'].isnull().sum()/training_data.shape[0])*100))\n",
    "print('Missing \"Embarked\" Percent is %.2f%%' %((training_data['Embarked'].isnull().sum()/training_data.shape[0])*100))"
   ]
  },
  {
   "cell_type": "markdown",
   "id": "b271168b",
   "metadata": {
    "papermill": {
     "duration": 0.020502,
     "end_time": "2021-12-25T00:55:44.275058",
     "exception": false,
     "start_time": "2021-12-25T00:55:44.254556",
     "status": "completed"
    },
    "tags": []
   },
   "source": [
    "Although there is no established cutoff from the literature regarding an acceptable percentage of missing data, Schafer ( 1999 ) asserted that a missing rate of 5% or less is inconsequential. Therefore Age and Cabin should be dropped and embarked can be filled."
   ]
  },
  {
   "cell_type": "code",
   "execution_count": 6,
   "id": "8f0ee11d",
   "metadata": {
    "execution": {
     "iopub.execute_input": "2021-12-25T00:55:44.319623Z",
     "iopub.status.busy": "2021-12-25T00:55:44.319024Z",
     "iopub.status.idle": "2021-12-25T00:55:44.332078Z",
     "shell.execute_reply": "2021-12-25T00:55:44.332628Z",
     "shell.execute_reply.started": "2021-12-25T00:54:39.698281Z"
    },
    "papermill": {
     "duration": 0.036852,
     "end_time": "2021-12-25T00:55:44.332789",
     "exception": false,
     "start_time": "2021-12-25T00:55:44.295937",
     "status": "completed"
    },
    "tags": []
   },
   "outputs": [],
   "source": [
    "training_data.drop('Cabin', axis=1, inplace=True)\n",
    "training_data[\"Age\"].fillna(training_data[\"Age\"].median(skipna=True), inplace=True)\n",
    "training_data[\"Embarked\"].fillna(training_data['Embarked'].value_counts().idxmax(), inplace=True)"
   ]
  },
  {
   "cell_type": "markdown",
   "id": "d83688f1",
   "metadata": {
    "papermill": {
     "duration": 0.020538,
     "end_time": "2021-12-25T00:55:44.374594",
     "exception": false,
     "start_time": "2021-12-25T00:55:44.354056",
     "status": "completed"
    },
    "tags": []
   },
   "source": [
    "Cabin and Age are dropped from the dataset and the 2 missing data in embarked are filled with the most common boarding location."
   ]
  },
  {
   "cell_type": "code",
   "execution_count": 7,
   "id": "7d26931b",
   "metadata": {
    "execution": {
     "iopub.execute_input": "2021-12-25T00:55:44.418938Z",
     "iopub.status.busy": "2021-12-25T00:55:44.418303Z",
     "iopub.status.idle": "2021-12-25T00:55:44.425202Z",
     "shell.execute_reply": "2021-12-25T00:55:44.425746Z",
     "shell.execute_reply.started": "2021-12-25T00:54:39.715339Z"
    },
    "papermill": {
     "duration": 0.030581,
     "end_time": "2021-12-25T00:55:44.425905",
     "exception": false,
     "start_time": "2021-12-25T00:55:44.395324",
     "status": "completed"
    },
    "tags": []
   },
   "outputs": [
    {
     "data": {
      "text/plain": [
       "PassengerId    0\n",
       "Survived       0\n",
       "Pclass         0\n",
       "Name           0\n",
       "Sex            0\n",
       "Age            0\n",
       "SibSp          0\n",
       "Parch          0\n",
       "Ticket         0\n",
       "Fare           0\n",
       "Embarked       0\n",
       "dtype: int64"
      ]
     },
     "execution_count": 7,
     "metadata": {},
     "output_type": "execute_result"
    }
   ],
   "source": [
    "training_data.isnull().sum()"
   ]
  },
  {
   "cell_type": "markdown",
   "id": "774fbcdc",
   "metadata": {
    "papermill": {
     "duration": 0.021132,
     "end_time": "2021-12-25T00:55:44.468615",
     "exception": false,
     "start_time": "2021-12-25T00:55:44.447483",
     "status": "completed"
    },
    "tags": []
   },
   "source": [
    "No more missing values in data"
   ]
  },
  {
   "cell_type": "code",
   "execution_count": 8,
   "id": "992b166b",
   "metadata": {
    "execution": {
     "iopub.execute_input": "2021-12-25T00:55:44.514386Z",
     "iopub.status.busy": "2021-12-25T00:55:44.513734Z",
     "iopub.status.idle": "2021-12-25T00:55:44.523082Z",
     "shell.execute_reply": "2021-12-25T00:55:44.523698Z",
     "shell.execute_reply.started": "2021-12-25T00:54:39.728850Z"
    },
    "papermill": {
     "duration": 0.03367,
     "end_time": "2021-12-25T00:55:44.523864",
     "exception": false,
     "start_time": "2021-12-25T00:55:44.490194",
     "status": "completed"
    },
    "tags": []
   },
   "outputs": [],
   "source": [
    "training_data['Alone']=np.where((training_data[\"SibSp\"]+training_data[\"Parch\"])>0, 0, 1)\n",
    "training_data.drop('SibSp', axis=1, inplace=True)\n",
    "training_data.drop('Parch', axis=1, inplace=True)"
   ]
  },
  {
   "cell_type": "code",
   "execution_count": 9,
   "id": "dbdc1762",
   "metadata": {
    "execution": {
     "iopub.execute_input": "2021-12-25T00:55:44.570533Z",
     "iopub.status.busy": "2021-12-25T00:55:44.569854Z",
     "iopub.status.idle": "2021-12-25T00:55:44.580913Z",
     "shell.execute_reply": "2021-12-25T00:55:44.581482Z",
     "shell.execute_reply.started": "2021-12-25T00:54:40.156593Z"
    },
    "papermill": {
     "duration": 0.036613,
     "end_time": "2021-12-25T00:55:44.581644",
     "exception": false,
     "start_time": "2021-12-25T00:55:44.545031",
     "status": "completed"
    },
    "tags": []
   },
   "outputs": [],
   "source": [
    "test_data = pd.read_csv(\"/kaggle/input/titanic/test.csv\")"
   ]
  },
  {
   "cell_type": "code",
   "execution_count": 10,
   "id": "0ce29779",
   "metadata": {
    "execution": {
     "iopub.execute_input": "2021-12-25T00:55:44.632770Z",
     "iopub.status.busy": "2021-12-25T00:55:44.631978Z",
     "iopub.status.idle": "2021-12-25T00:55:44.635050Z",
     "shell.execute_reply": "2021-12-25T00:55:44.635558Z",
     "shell.execute_reply.started": "2021-12-25T00:54:40.171221Z"
    },
    "papermill": {
     "duration": 0.032713,
     "end_time": "2021-12-25T00:55:44.635715",
     "exception": false,
     "start_time": "2021-12-25T00:55:44.603002",
     "status": "completed"
    },
    "tags": []
   },
   "outputs": [
    {
     "data": {
      "text/plain": [
       "PassengerId      0\n",
       "Pclass           0\n",
       "Name             0\n",
       "Sex              0\n",
       "Age             86\n",
       "SibSp            0\n",
       "Parch            0\n",
       "Ticket           0\n",
       "Fare             1\n",
       "Cabin          327\n",
       "Embarked         0\n",
       "dtype: int64"
      ]
     },
     "execution_count": 10,
     "metadata": {},
     "output_type": "execute_result"
    }
   ],
   "source": [
    "test_data.isnull().sum()"
   ]
  },
  {
   "cell_type": "code",
   "execution_count": 11,
   "id": "506ab33b",
   "metadata": {
    "execution": {
     "iopub.execute_input": "2021-12-25T00:55:44.682356Z",
     "iopub.status.busy": "2021-12-25T00:55:44.681742Z",
     "iopub.status.idle": "2021-12-25T00:55:44.693422Z",
     "shell.execute_reply": "2021-12-25T00:55:44.692907Z",
     "shell.execute_reply.started": "2021-12-25T00:54:40.183524Z"
    },
    "papermill": {
     "duration": 0.035982,
     "end_time": "2021-12-25T00:55:44.693557",
     "exception": false,
     "start_time": "2021-12-25T00:55:44.657575",
     "status": "completed"
    },
    "tags": []
   },
   "outputs": [],
   "source": [
    "test_data.drop('Cabin', axis=1, inplace=True)\n",
    "test_data[\"Age\"].fillna(training_data[\"Age\"].median(skipna=True), inplace=True)\n",
    "test_data[\"Embarked\"].fillna(training_data['Embarked'].value_counts().idxmax(), inplace=True)\n",
    "\n",
    "test_data['Alone']=np.where((test_data[\"SibSp\"]+test_data[\"Parch\"])>0, 0, 1)\n",
    "test_data.drop('SibSp', axis=1, inplace=True)\n",
    "test_data.drop('Parch', axis=1, inplace=True)"
   ]
  },
  {
   "cell_type": "markdown",
   "id": "d0bf1a10",
   "metadata": {
    "papermill": {
     "duration": 0.020803,
     "end_time": "2021-12-25T00:55:44.735930",
     "exception": false,
     "start_time": "2021-12-25T00:55:44.715127",
     "status": "completed"
    },
    "tags": []
   },
   "source": [
    "Similar adjustments for test data"
   ]
  },
  {
   "cell_type": "code",
   "execution_count": 12,
   "id": "8fe8ed7c",
   "metadata": {
    "execution": {
     "iopub.execute_input": "2021-12-25T00:55:44.782547Z",
     "iopub.status.busy": "2021-12-25T00:55:44.781919Z",
     "iopub.status.idle": "2021-12-25T00:55:44.788646Z",
     "shell.execute_reply": "2021-12-25T00:55:44.789150Z",
     "shell.execute_reply.started": "2021-12-25T00:54:40.198363Z"
    },
    "papermill": {
     "duration": 0.031518,
     "end_time": "2021-12-25T00:55:44.789299",
     "exception": false,
     "start_time": "2021-12-25T00:55:44.757781",
     "status": "completed"
    },
    "tags": []
   },
   "outputs": [
    {
     "data": {
      "text/plain": [
       "PassengerId    0\n",
       "Pclass         0\n",
       "Name           0\n",
       "Sex            0\n",
       "Age            0\n",
       "Ticket         0\n",
       "Fare           1\n",
       "Embarked       0\n",
       "Alone          0\n",
       "dtype: int64"
      ]
     },
     "execution_count": 12,
     "metadata": {},
     "output_type": "execute_result"
    }
   ],
   "source": [
    "test_data.isnull().sum()"
   ]
  },
  {
   "cell_type": "markdown",
   "id": "ca423b6f",
   "metadata": {
    "papermill": {
     "duration": 0.023252,
     "end_time": "2021-12-25T00:55:44.834429",
     "exception": false,
     "start_time": "2021-12-25T00:55:44.811177",
     "status": "completed"
    },
    "tags": []
   },
   "source": [
    "Fare has 1 missing value in test data so we can fill it with a median as it is numerical data."
   ]
  },
  {
   "cell_type": "code",
   "execution_count": 13,
   "id": "8366e52f",
   "metadata": {
    "execution": {
     "iopub.execute_input": "2021-12-25T00:55:44.883129Z",
     "iopub.status.busy": "2021-12-25T00:55:44.882536Z",
     "iopub.status.idle": "2021-12-25T00:55:44.885421Z",
     "shell.execute_reply": "2021-12-25T00:55:44.884869Z",
     "shell.execute_reply.started": "2021-12-25T00:54:40.215936Z"
    },
    "papermill": {
     "duration": 0.029833,
     "end_time": "2021-12-25T00:55:44.885546",
     "exception": false,
     "start_time": "2021-12-25T00:55:44.855713",
     "status": "completed"
    },
    "tags": []
   },
   "outputs": [],
   "source": [
    "test_data[\"Fare\"].fillna(test_data[\"Fare\"].median(skipna=True), inplace=True)"
   ]
  },
  {
   "cell_type": "code",
   "execution_count": 14,
   "id": "e4d6e377",
   "metadata": {
    "execution": {
     "iopub.execute_input": "2021-12-25T00:55:44.935786Z",
     "iopub.status.busy": "2021-12-25T00:55:44.935186Z",
     "iopub.status.idle": "2021-12-25T00:55:44.938882Z",
     "shell.execute_reply": "2021-12-25T00:55:44.938307Z",
     "shell.execute_reply.started": "2021-12-25T00:54:40.248075Z"
    },
    "papermill": {
     "duration": 0.032005,
     "end_time": "2021-12-25T00:55:44.939009",
     "exception": false,
     "start_time": "2021-12-25T00:55:44.907004",
     "status": "completed"
    },
    "tags": []
   },
   "outputs": [
    {
     "data": {
      "text/plain": [
       "PassengerId    0\n",
       "Pclass         0\n",
       "Name           0\n",
       "Sex            0\n",
       "Age            0\n",
       "Ticket         0\n",
       "Fare           0\n",
       "Embarked       0\n",
       "Alone          0\n",
       "dtype: int64"
      ]
     },
     "execution_count": 14,
     "metadata": {},
     "output_type": "execute_result"
    }
   ],
   "source": [
    "test_data.isnull().sum()"
   ]
  },
  {
   "cell_type": "code",
   "execution_count": 15,
   "id": "7b601f3b",
   "metadata": {
    "execution": {
     "iopub.execute_input": "2021-12-25T00:55:44.987240Z",
     "iopub.status.busy": "2021-12-25T00:55:44.986359Z",
     "iopub.status.idle": "2021-12-25T00:55:45.012168Z",
     "shell.execute_reply": "2021-12-25T00:55:45.012764Z",
     "shell.execute_reply.started": "2021-12-25T00:54:40.258428Z"
    },
    "papermill": {
     "duration": 0.052107,
     "end_time": "2021-12-25T00:55:45.012946",
     "exception": false,
     "start_time": "2021-12-25T00:55:44.960839",
     "status": "completed"
    },
    "tags": []
   },
   "outputs": [
    {
     "data": {
      "text/html": [
       "<div>\n",
       "<style scoped>\n",
       "    .dataframe tbody tr th:only-of-type {\n",
       "        vertical-align: middle;\n",
       "    }\n",
       "\n",
       "    .dataframe tbody tr th {\n",
       "        vertical-align: top;\n",
       "    }\n",
       "\n",
       "    .dataframe thead th {\n",
       "        text-align: right;\n",
       "    }\n",
       "</style>\n",
       "<table border=\"1\" class=\"dataframe\">\n",
       "  <thead>\n",
       "    <tr style=\"text-align: right;\">\n",
       "      <th></th>\n",
       "      <th>Survived</th>\n",
       "      <th>Age</th>\n",
       "      <th>Fare</th>\n",
       "      <th>Alone</th>\n",
       "      <th>Pclass_1</th>\n",
       "      <th>Pclass_2</th>\n",
       "      <th>Pclass_3</th>\n",
       "      <th>Embarked_C</th>\n",
       "      <th>Embarked_Q</th>\n",
       "      <th>Embarked_S</th>\n",
       "      <th>Sex_male</th>\n",
       "    </tr>\n",
       "  </thead>\n",
       "  <tbody>\n",
       "    <tr>\n",
       "      <th>0</th>\n",
       "      <td>0</td>\n",
       "      <td>22.0</td>\n",
       "      <td>7.2500</td>\n",
       "      <td>0</td>\n",
       "      <td>0</td>\n",
       "      <td>0</td>\n",
       "      <td>1</td>\n",
       "      <td>0</td>\n",
       "      <td>0</td>\n",
       "      <td>1</td>\n",
       "      <td>1</td>\n",
       "    </tr>\n",
       "    <tr>\n",
       "      <th>1</th>\n",
       "      <td>1</td>\n",
       "      <td>38.0</td>\n",
       "      <td>71.2833</td>\n",
       "      <td>0</td>\n",
       "      <td>1</td>\n",
       "      <td>0</td>\n",
       "      <td>0</td>\n",
       "      <td>1</td>\n",
       "      <td>0</td>\n",
       "      <td>0</td>\n",
       "      <td>0</td>\n",
       "    </tr>\n",
       "    <tr>\n",
       "      <th>2</th>\n",
       "      <td>1</td>\n",
       "      <td>26.0</td>\n",
       "      <td>7.9250</td>\n",
       "      <td>1</td>\n",
       "      <td>0</td>\n",
       "      <td>0</td>\n",
       "      <td>1</td>\n",
       "      <td>0</td>\n",
       "      <td>0</td>\n",
       "      <td>1</td>\n",
       "      <td>0</td>\n",
       "    </tr>\n",
       "    <tr>\n",
       "      <th>3</th>\n",
       "      <td>1</td>\n",
       "      <td>35.0</td>\n",
       "      <td>53.1000</td>\n",
       "      <td>0</td>\n",
       "      <td>1</td>\n",
       "      <td>0</td>\n",
       "      <td>0</td>\n",
       "      <td>0</td>\n",
       "      <td>0</td>\n",
       "      <td>1</td>\n",
       "      <td>0</td>\n",
       "    </tr>\n",
       "    <tr>\n",
       "      <th>4</th>\n",
       "      <td>0</td>\n",
       "      <td>35.0</td>\n",
       "      <td>8.0500</td>\n",
       "      <td>1</td>\n",
       "      <td>0</td>\n",
       "      <td>0</td>\n",
       "      <td>1</td>\n",
       "      <td>0</td>\n",
       "      <td>0</td>\n",
       "      <td>1</td>\n",
       "      <td>1</td>\n",
       "    </tr>\n",
       "  </tbody>\n",
       "</table>\n",
       "</div>"
      ],
      "text/plain": [
       "   Survived   Age     Fare  Alone  Pclass_1  Pclass_2  Pclass_3  Embarked_C  \\\n",
       "0         0  22.0   7.2500      0         0         0         1           0   \n",
       "1         1  38.0  71.2833      0         1         0         0           1   \n",
       "2         1  26.0   7.9250      1         0         0         1           0   \n",
       "3         1  35.0  53.1000      0         1         0         0           0   \n",
       "4         0  35.0   8.0500      1         0         0         1           0   \n",
       "\n",
       "   Embarked_Q  Embarked_S  Sex_male  \n",
       "0           0           1         1  \n",
       "1           0           0         0  \n",
       "2           0           1         0  \n",
       "3           0           1         0  \n",
       "4           0           1         1  "
      ]
     },
     "execution_count": 15,
     "metadata": {},
     "output_type": "execute_result"
    }
   ],
   "source": [
    "training = pd.get_dummies(training_data, columns=[\"Pclass\",\"Embarked\",\"Sex\"])\n",
    "training.drop('Sex_female', axis=1, inplace=True)\n",
    "training.drop('PassengerId', axis=1, inplace=True)\n",
    "training.drop('Name', axis=1, inplace=True)\n",
    "training.drop('Ticket', axis=1, inplace=True)\n",
    "\n",
    "final_train = training\n",
    "final_train.head()"
   ]
  },
  {
   "cell_type": "code",
   "execution_count": 16,
   "id": "3253d753",
   "metadata": {
    "execution": {
     "iopub.execute_input": "2021-12-25T00:55:45.062613Z",
     "iopub.status.busy": "2021-12-25T00:55:45.061711Z",
     "iopub.status.idle": "2021-12-25T00:55:45.085166Z",
     "shell.execute_reply": "2021-12-25T00:55:45.084525Z",
     "shell.execute_reply.started": "2021-12-25T00:54:40.287980Z"
    },
    "papermill": {
     "duration": 0.049267,
     "end_time": "2021-12-25T00:55:45.085315",
     "exception": false,
     "start_time": "2021-12-25T00:55:45.036048",
     "status": "completed"
    },
    "tags": []
   },
   "outputs": [
    {
     "data": {
      "text/html": [
       "<div>\n",
       "<style scoped>\n",
       "    .dataframe tbody tr th:only-of-type {\n",
       "        vertical-align: middle;\n",
       "    }\n",
       "\n",
       "    .dataframe tbody tr th {\n",
       "        vertical-align: top;\n",
       "    }\n",
       "\n",
       "    .dataframe thead th {\n",
       "        text-align: right;\n",
       "    }\n",
       "</style>\n",
       "<table border=\"1\" class=\"dataframe\">\n",
       "  <thead>\n",
       "    <tr style=\"text-align: right;\">\n",
       "      <th></th>\n",
       "      <th>Age</th>\n",
       "      <th>Fare</th>\n",
       "      <th>Alone</th>\n",
       "      <th>Pclass_1</th>\n",
       "      <th>Pclass_2</th>\n",
       "      <th>Pclass_3</th>\n",
       "      <th>Embarked_C</th>\n",
       "      <th>Embarked_Q</th>\n",
       "      <th>Embarked_S</th>\n",
       "      <th>Sex_male</th>\n",
       "    </tr>\n",
       "  </thead>\n",
       "  <tbody>\n",
       "    <tr>\n",
       "      <th>0</th>\n",
       "      <td>34.5</td>\n",
       "      <td>7.8292</td>\n",
       "      <td>1</td>\n",
       "      <td>0</td>\n",
       "      <td>0</td>\n",
       "      <td>1</td>\n",
       "      <td>0</td>\n",
       "      <td>1</td>\n",
       "      <td>0</td>\n",
       "      <td>1</td>\n",
       "    </tr>\n",
       "    <tr>\n",
       "      <th>1</th>\n",
       "      <td>47.0</td>\n",
       "      <td>7.0000</td>\n",
       "      <td>0</td>\n",
       "      <td>0</td>\n",
       "      <td>0</td>\n",
       "      <td>1</td>\n",
       "      <td>0</td>\n",
       "      <td>0</td>\n",
       "      <td>1</td>\n",
       "      <td>0</td>\n",
       "    </tr>\n",
       "    <tr>\n",
       "      <th>2</th>\n",
       "      <td>62.0</td>\n",
       "      <td>9.6875</td>\n",
       "      <td>1</td>\n",
       "      <td>0</td>\n",
       "      <td>1</td>\n",
       "      <td>0</td>\n",
       "      <td>0</td>\n",
       "      <td>1</td>\n",
       "      <td>0</td>\n",
       "      <td>1</td>\n",
       "    </tr>\n",
       "    <tr>\n",
       "      <th>3</th>\n",
       "      <td>27.0</td>\n",
       "      <td>8.6625</td>\n",
       "      <td>1</td>\n",
       "      <td>0</td>\n",
       "      <td>0</td>\n",
       "      <td>1</td>\n",
       "      <td>0</td>\n",
       "      <td>0</td>\n",
       "      <td>1</td>\n",
       "      <td>1</td>\n",
       "    </tr>\n",
       "    <tr>\n",
       "      <th>4</th>\n",
       "      <td>22.0</td>\n",
       "      <td>12.2875</td>\n",
       "      <td>0</td>\n",
       "      <td>0</td>\n",
       "      <td>0</td>\n",
       "      <td>1</td>\n",
       "      <td>0</td>\n",
       "      <td>0</td>\n",
       "      <td>1</td>\n",
       "      <td>0</td>\n",
       "    </tr>\n",
       "  </tbody>\n",
       "</table>\n",
       "</div>"
      ],
      "text/plain": [
       "    Age     Fare  Alone  Pclass_1  Pclass_2  Pclass_3  Embarked_C  Embarked_Q  \\\n",
       "0  34.5   7.8292      1         0         0         1           0           1   \n",
       "1  47.0   7.0000      0         0         0         1           0           0   \n",
       "2  62.0   9.6875      1         0         1         0           0           1   \n",
       "3  27.0   8.6625      1         0         0         1           0           0   \n",
       "4  22.0  12.2875      0         0         0         1           0           0   \n",
       "\n",
       "   Embarked_S  Sex_male  \n",
       "0           0         1  \n",
       "1           1         0  \n",
       "2           0         1  \n",
       "3           1         1  \n",
       "4           1         0  "
      ]
     },
     "execution_count": 16,
     "metadata": {},
     "output_type": "execute_result"
    }
   ],
   "source": [
    "testing = pd.get_dummies(test_data, columns=[\"Pclass\",\"Embarked\",\"Sex\"])\n",
    "testing.drop('Sex_female', axis=1, inplace=True)\n",
    "testing.drop('PassengerId', axis=1, inplace=True)\n",
    "testing.drop('Name', axis=1, inplace=True)\n",
    "testing.drop('Ticket', axis=1, inplace=True)\n",
    "\n",
    "final_test = testing\n",
    "final_test.head()"
   ]
  },
  {
   "cell_type": "code",
   "execution_count": 17,
   "id": "0c88820c",
   "metadata": {
    "execution": {
     "iopub.execute_input": "2021-12-25T00:55:45.135934Z",
     "iopub.status.busy": "2021-12-25T00:55:45.134990Z",
     "iopub.status.idle": "2021-12-25T00:55:45.141120Z",
     "shell.execute_reply": "2021-12-25T00:55:45.141738Z",
     "shell.execute_reply.started": "2021-12-25T00:54:40.378835Z"
    },
    "papermill": {
     "duration": 0.032863,
     "end_time": "2021-12-25T00:55:45.141896",
     "exception": false,
     "start_time": "2021-12-25T00:55:45.109033",
     "status": "completed"
    },
    "tags": []
   },
   "outputs": [],
   "source": [
    "final_train['Minor']=np.where(final_train['Age']<=16, 1, 0)\n",
    "\n",
    "final_test['Minor']=np.where(final_test['Age']<=16, 1, 0)"
   ]
  },
  {
   "cell_type": "code",
   "execution_count": 18,
   "id": "af97f006",
   "metadata": {
    "execution": {
     "iopub.execute_input": "2021-12-25T00:55:45.195110Z",
     "iopub.status.busy": "2021-12-25T00:55:45.194496Z",
     "iopub.status.idle": "2021-12-25T00:55:46.354587Z",
     "shell.execute_reply": "2021-12-25T00:55:46.355053Z",
     "shell.execute_reply.started": "2021-12-25T00:54:40.388207Z"
    },
    "papermill": {
     "duration": 1.189665,
     "end_time": "2021-12-25T00:55:46.355231",
     "exception": false,
     "start_time": "2021-12-25T00:55:45.165566",
     "status": "completed"
    },
    "tags": []
   },
   "outputs": [],
   "source": [
    "from sklearn.linear_model import LogisticRegression\n",
    "from sklearn.feature_selection import RFE\n",
    "\n",
    "cols = [\"Age\",\"Alone\",\"Fare\",\"Minor\",\"Pclass_1\",\"Pclass_2\",\"Pclass_3\",\"Embarked_C\",\"Embarked_Q\",\"Embarked_S\",\"Sex_male\"] \n",
    "X = final_train[cols]\n",
    "y = final_train['Survived']\n",
    "model = LogisticRegression(solver='liblinear').fit(X,y)"
   ]
  },
  {
   "cell_type": "code",
   "execution_count": 19,
   "id": "6ae4313f",
   "metadata": {
    "execution": {
     "iopub.execute_input": "2021-12-25T00:55:46.413560Z",
     "iopub.status.busy": "2021-12-25T00:55:46.412864Z",
     "iopub.status.idle": "2021-12-25T00:55:46.423303Z",
     "shell.execute_reply": "2021-12-25T00:55:46.423902Z",
     "shell.execute_reply.started": "2021-12-25T00:54:41.559499Z"
    },
    "papermill": {
     "duration": 0.045048,
     "end_time": "2021-12-25T00:55:46.424062",
     "exception": false,
     "start_time": "2021-12-25T00:55:46.379014",
     "status": "completed"
    },
    "tags": []
   },
   "outputs": [
    {
     "data": {
      "text/html": [
       "<div>\n",
       "<style scoped>\n",
       "    .dataframe tbody tr th:only-of-type {\n",
       "        vertical-align: middle;\n",
       "    }\n",
       "\n",
       "    .dataframe tbody tr th {\n",
       "        vertical-align: top;\n",
       "    }\n",
       "\n",
       "    .dataframe thead th {\n",
       "        text-align: right;\n",
       "    }\n",
       "</style>\n",
       "<table border=\"1\" class=\"dataframe\">\n",
       "  <thead>\n",
       "    <tr style=\"text-align: right;\">\n",
       "      <th></th>\n",
       "      <th>PassengerId</th>\n",
       "      <th>Survived</th>\n",
       "    </tr>\n",
       "  </thead>\n",
       "  <tbody>\n",
       "    <tr>\n",
       "      <th>413</th>\n",
       "      <td>1305</td>\n",
       "      <td>0</td>\n",
       "    </tr>\n",
       "    <tr>\n",
       "      <th>414</th>\n",
       "      <td>1306</td>\n",
       "      <td>1</td>\n",
       "    </tr>\n",
       "    <tr>\n",
       "      <th>415</th>\n",
       "      <td>1307</td>\n",
       "      <td>0</td>\n",
       "    </tr>\n",
       "    <tr>\n",
       "      <th>416</th>\n",
       "      <td>1308</td>\n",
       "      <td>0</td>\n",
       "    </tr>\n",
       "    <tr>\n",
       "      <th>417</th>\n",
       "      <td>1309</td>\n",
       "      <td>0</td>\n",
       "    </tr>\n",
       "  </tbody>\n",
       "</table>\n",
       "</div>"
      ],
      "text/plain": [
       "     PassengerId  Survived\n",
       "413         1305         0\n",
       "414         1306         1\n",
       "415         1307         0\n",
       "416         1308         0\n",
       "417         1309         0"
      ]
     },
     "execution_count": 19,
     "metadata": {},
     "output_type": "execute_result"
    }
   ],
   "source": [
    "\n",
    "final_test['Survived'] = model.predict(final_test[cols])\n",
    "final_test['PassengerId'] = test_data['PassengerId']\n",
    "\n",
    "submission = final_test[['PassengerId','Survived']]\n",
    "\n",
    "submission.to_csv(\"submission.csv\", index=False)\n",
    "\n",
    "submission.tail()"
   ]
  },
  {
   "cell_type": "code",
   "execution_count": null,
   "id": "00dcdf5a",
   "metadata": {
    "papermill": {
     "duration": 0.023832,
     "end_time": "2021-12-25T00:55:46.471612",
     "exception": false,
     "start_time": "2021-12-25T00:55:46.447780",
     "status": "completed"
    },
    "tags": []
   },
   "outputs": [],
   "source": []
  }
 ],
 "metadata": {
  "kernelspec": {
   "display_name": "Python 3",
   "language": "python",
   "name": "python3"
  },
  "language_info": {
   "codemirror_mode": {
    "name": "ipython",
    "version": 3
   },
   "file_extension": ".py",
   "mimetype": "text/x-python",
   "name": "python",
   "nbconvert_exporter": "python",
   "pygments_lexer": "ipython3",
   "version": "3.7.12"
  },
  "papermill": {
   "default_parameters": {},
   "duration": 12.799234,
   "end_time": "2021-12-25T00:55:47.205682",
   "environment_variables": {},
   "exception": null,
   "input_path": "__notebook__.ipynb",
   "output_path": "__notebook__.ipynb",
   "parameters": {},
   "start_time": "2021-12-25T00:55:34.406448",
   "version": "2.3.3"
  }
 },
 "nbformat": 4,
 "nbformat_minor": 5
}
